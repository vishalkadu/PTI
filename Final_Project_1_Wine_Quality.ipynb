{
 "cells": [
  {
   "cell_type": "markdown",
   "id": "a120cd33",
   "metadata": {},
   "source": [
    "## Project Title:  Wine Quality Prediction\n",
    "                                    By: Vishal Kadu"
   ]
  },
  {
   "cell_type": "code",
   "execution_count": 1,
   "id": "d4d04fba",
   "metadata": {},
   "outputs": [],
   "source": [
    "#Importing required libraries\n",
    "\n",
    "import pandas as pd\n",
    "import numpy as np\n",
    "import matplotlib.pyplot as plt\n",
    "import seaborn as sns\n",
    "%matplotlib inline"
   ]
  },
  {
   "cell_type": "code",
   "execution_count": 2,
   "id": "16ff0873",
   "metadata": {},
   "outputs": [
    {
     "name": "stdout",
     "output_type": "stream",
     "text": [
      "Data Loaded Succesfully\n"
     ]
    },
    {
     "data": {
      "text/html": [
       "<div>\n",
       "<style scoped>\n",
       "    .dataframe tbody tr th:only-of-type {\n",
       "        vertical-align: middle;\n",
       "    }\n",
       "\n",
       "    .dataframe tbody tr th {\n",
       "        vertical-align: top;\n",
       "    }\n",
       "\n",
       "    .dataframe thead th {\n",
       "        text-align: right;\n",
       "    }\n",
       "</style>\n",
       "<table border=\"1\" class=\"dataframe\">\n",
       "  <thead>\n",
       "    <tr style=\"text-align: right;\">\n",
       "      <th></th>\n",
       "      <th>fixed acidity</th>\n",
       "      <th>volatile acidity</th>\n",
       "      <th>citric acid</th>\n",
       "      <th>residual sugar</th>\n",
       "      <th>chlorides</th>\n",
       "      <th>free sulfur dioxide</th>\n",
       "      <th>total sulfur dioxide</th>\n",
       "      <th>density</th>\n",
       "      <th>pH</th>\n",
       "      <th>sulphates</th>\n",
       "      <th>alcohol</th>\n",
       "      <th>quality</th>\n",
       "    </tr>\n",
       "  </thead>\n",
       "  <tbody>\n",
       "    <tr>\n",
       "      <th>0</th>\n",
       "      <td>7.4</td>\n",
       "      <td>0.70</td>\n",
       "      <td>0.00</td>\n",
       "      <td>1.9</td>\n",
       "      <td>0.076</td>\n",
       "      <td>11.0</td>\n",
       "      <td>34.0</td>\n",
       "      <td>0.9978</td>\n",
       "      <td>3.51</td>\n",
       "      <td>0.56</td>\n",
       "      <td>9.4</td>\n",
       "      <td>5</td>\n",
       "    </tr>\n",
       "    <tr>\n",
       "      <th>1</th>\n",
       "      <td>7.8</td>\n",
       "      <td>0.88</td>\n",
       "      <td>0.00</td>\n",
       "      <td>2.6</td>\n",
       "      <td>0.098</td>\n",
       "      <td>25.0</td>\n",
       "      <td>67.0</td>\n",
       "      <td>0.9968</td>\n",
       "      <td>3.20</td>\n",
       "      <td>0.68</td>\n",
       "      <td>9.8</td>\n",
       "      <td>5</td>\n",
       "    </tr>\n",
       "    <tr>\n",
       "      <th>2</th>\n",
       "      <td>7.8</td>\n",
       "      <td>0.76</td>\n",
       "      <td>0.04</td>\n",
       "      <td>2.3</td>\n",
       "      <td>0.092</td>\n",
       "      <td>15.0</td>\n",
       "      <td>54.0</td>\n",
       "      <td>0.9970</td>\n",
       "      <td>3.26</td>\n",
       "      <td>0.65</td>\n",
       "      <td>9.8</td>\n",
       "      <td>5</td>\n",
       "    </tr>\n",
       "    <tr>\n",
       "      <th>3</th>\n",
       "      <td>11.2</td>\n",
       "      <td>0.28</td>\n",
       "      <td>0.56</td>\n",
       "      <td>1.9</td>\n",
       "      <td>0.075</td>\n",
       "      <td>17.0</td>\n",
       "      <td>60.0</td>\n",
       "      <td>0.9980</td>\n",
       "      <td>3.16</td>\n",
       "      <td>0.58</td>\n",
       "      <td>9.8</td>\n",
       "      <td>6</td>\n",
       "    </tr>\n",
       "    <tr>\n",
       "      <th>4</th>\n",
       "      <td>7.4</td>\n",
       "      <td>0.70</td>\n",
       "      <td>0.00</td>\n",
       "      <td>1.9</td>\n",
       "      <td>0.076</td>\n",
       "      <td>11.0</td>\n",
       "      <td>34.0</td>\n",
       "      <td>0.9978</td>\n",
       "      <td>3.51</td>\n",
       "      <td>0.56</td>\n",
       "      <td>9.4</td>\n",
       "      <td>5</td>\n",
       "    </tr>\n",
       "  </tbody>\n",
       "</table>\n",
       "</div>"
      ],
      "text/plain": [
       "   fixed acidity  volatile acidity  citric acid  residual sugar  chlorides  \\\n",
       "0            7.4              0.70         0.00             1.9      0.076   \n",
       "1            7.8              0.88         0.00             2.6      0.098   \n",
       "2            7.8              0.76         0.04             2.3      0.092   \n",
       "3           11.2              0.28         0.56             1.9      0.075   \n",
       "4            7.4              0.70         0.00             1.9      0.076   \n",
       "\n",
       "   free sulfur dioxide  total sulfur dioxide  density    pH  sulphates  \\\n",
       "0                 11.0                  34.0   0.9978  3.51       0.56   \n",
       "1                 25.0                  67.0   0.9968  3.20       0.68   \n",
       "2                 15.0                  54.0   0.9970  3.26       0.65   \n",
       "3                 17.0                  60.0   0.9980  3.16       0.58   \n",
       "4                 11.0                  34.0   0.9978  3.51       0.56   \n",
       "\n",
       "   alcohol  quality  \n",
       "0      9.4        5  \n",
       "1      9.8        5  \n",
       "2      9.8        5  \n",
       "3      9.8        6  \n",
       "4      9.4        5  "
      ]
     },
     "execution_count": 2,
     "metadata": {},
     "output_type": "execute_result"
    }
   ],
   "source": [
    "dataset = pd.read_csv('Final_Project_1_Data.csv')\n",
    "\n",
    "print(\"Data Loaded Succesfully\")\n",
    " \n",
    "dataset.head() #Return the first 5 rows of the dataframe"
   ]
  },
  {
   "cell_type": "code",
   "execution_count": 3,
   "id": "5bef6491",
   "metadata": {},
   "outputs": [
    {
     "name": "stdout",
     "output_type": "stream",
     "text": [
      "<class 'pandas.core.frame.DataFrame'>\n",
      "RangeIndex: 1599 entries, 0 to 1598\n",
      "Data columns (total 12 columns):\n",
      " #   Column                Non-Null Count  Dtype  \n",
      "---  ------                --------------  -----  \n",
      " 0   fixed acidity         1599 non-null   float64\n",
      " 1   volatile acidity      1599 non-null   float64\n",
      " 2   citric acid           1599 non-null   float64\n",
      " 3   residual sugar        1599 non-null   float64\n",
      " 4   chlorides             1599 non-null   float64\n",
      " 5   free sulfur dioxide   1599 non-null   float64\n",
      " 6   total sulfur dioxide  1599 non-null   float64\n",
      " 7   density               1599 non-null   float64\n",
      " 8   pH                    1599 non-null   float64\n",
      " 9   sulphates             1599 non-null   float64\n",
      " 10  alcohol               1599 non-null   float64\n",
      " 11  quality               1599 non-null   int64  \n",
      "dtypes: float64(11), int64(1)\n",
      "memory usage: 150.0 KB\n"
     ]
    }
   ],
   "source": [
    "#let's see summary of data\n",
    "dataset.info()"
   ]
  },
  {
   "cell_type": "code",
   "execution_count": 4,
   "id": "105b0477",
   "metadata": {},
   "outputs": [
    {
     "data": {
      "text/plain": [
       "fixed acidity           0\n",
       "volatile acidity        0\n",
       "citric acid             0\n",
       "residual sugar          0\n",
       "chlorides               0\n",
       "free sulfur dioxide     0\n",
       "total sulfur dioxide    0\n",
       "density                 0\n",
       "pH                      0\n",
       "sulphates               0\n",
       "alcohol                 0\n",
       "quality                 0\n",
       "dtype: int64"
      ]
     },
     "execution_count": 4,
     "metadata": {},
     "output_type": "execute_result"
    }
   ],
   "source": [
    "#check for null values in given data and sum of values\n",
    "dataset.isna().sum()"
   ]
  },
  {
   "cell_type": "markdown",
   "id": "dcccb120",
   "metadata": {},
   "source": [
    "#### hence we got to know that there is no missing value, that's great!"
   ]
  },
  {
   "cell_type": "code",
   "execution_count": 5,
   "id": "45e01344",
   "metadata": {},
   "outputs": [
    {
     "data": {
      "text/plain": [
       "<AxesSubplot:xlabel='quality', ylabel='count'>"
      ]
     },
     "execution_count": 5,
     "metadata": {},
     "output_type": "execute_result"
    },
    {
     "data": {
      "image/png": "[encoded data removed]",
      "text/plain": [
       "<Figure size 432x288 with 1 Axes>"
      ]
     },
     "metadata": {
      "needs_background": "light"
     },
     "output_type": "display_data"
    }
   ],
   "source": [
    "#visulizing Quality using Countplot\n",
    "sns.countplot(x=dataset['quality'],palette='rainbow')"
   ]
  },
  {
   "cell_type": "markdown",
   "id": "c57db735",
   "metadata": {},
   "source": [
    "#### here it shows that mostly wines quality is average with less than 60 wines are of high quality.\n",
    "#### let's find relation among different entities with quality,we will use corr() correlation to find out.\n"
   ]
  },
  {
   "cell_type": "code",
   "execution_count": 6,
   "id": "36ac2b0c",
   "metadata": {},
   "outputs": [
    {
     "data": {
      "text/plain": [
       "volatile acidity       -0.390558\n",
       "total sulfur dioxide   -0.185100\n",
       "density                -0.174919\n",
       "chlorides              -0.128907\n",
       "pH                     -0.057731\n",
       "free sulfur dioxide    -0.050656\n",
       "residual sugar          0.013732\n",
       "fixed acidity           0.124052\n",
       "citric acid             0.226373\n",
       "sulphates               0.251397\n",
       "alcohol                 0.476166\n",
       "quality                 1.000000\n",
       "Name: quality, dtype: float64"
      ]
     },
     "execution_count": 6,
     "metadata": {},
     "output_type": "execute_result"
    }
   ],
   "source": [
    "dataset.corr()['quality'].sort_values()"
   ]
  },
  {
   "cell_type": "markdown",
   "id": "c5f88cf6",
   "metadata": {},
   "source": [
    "so we got to know that,\n",
    "\n",
    "alcohol (0.476166)has more correlated with resepect to other entities.\n",
    "\n",
    "volatile acidity is showing higher negative correlation.\n",
    "\n",
    "residual sugar is least correlated as it's nearly eqaual to 0.\n",
    "\n",
    "residual sugar is having neglisible impact on Quality hence we drop it. "
   ]
  },
  {
   "cell_type": "code",
   "execution_count": 7,
   "id": "4c16789c",
   "metadata": {},
   "outputs": [],
   "source": [
    "dataset.drop(['residual sugar'],axis=1, inplace = True)"
   ]
  },
  {
   "cell_type": "code",
   "execution_count": 8,
   "id": "c00bbfa5",
   "metadata": {},
   "outputs": [
    {
     "data": {
      "text/html": [
       "<div>\n",
       "<style scoped>\n",
       "    .dataframe tbody tr th:only-of-type {\n",
       "        vertical-align: middle;\n",
       "    }\n",
       "\n",
       "    .dataframe tbody tr th {\n",
       "        vertical-align: top;\n",
       "    }\n",
       "\n",
       "    .dataframe thead th {\n",
       "        text-align: right;\n",
       "    }\n",
       "</style>\n",
       "<table border=\"1\" class=\"dataframe\">\n",
       "  <thead>\n",
       "    <tr style=\"text-align: right;\">\n",
       "      <th></th>\n",
       "      <th>fixed acidity</th>\n",
       "      <th>volatile acidity</th>\n",
       "      <th>citric acid</th>\n",
       "      <th>chlorides</th>\n",
       "      <th>free sulfur dioxide</th>\n",
       "      <th>total sulfur dioxide</th>\n",
       "      <th>density</th>\n",
       "      <th>pH</th>\n",
       "      <th>sulphates</th>\n",
       "      <th>alcohol</th>\n",
       "      <th>quality</th>\n",
       "    </tr>\n",
       "  </thead>\n",
       "  <tbody>\n",
       "    <tr>\n",
       "      <th>0</th>\n",
       "      <td>7.4</td>\n",
       "      <td>0.70</td>\n",
       "      <td>0.00</td>\n",
       "      <td>0.076</td>\n",
       "      <td>11.0</td>\n",
       "      <td>34.0</td>\n",
       "      <td>0.9978</td>\n",
       "      <td>3.51</td>\n",
       "      <td>0.56</td>\n",
       "      <td>9.4</td>\n",
       "      <td>5</td>\n",
       "    </tr>\n",
       "    <tr>\n",
       "      <th>1</th>\n",
       "      <td>7.8</td>\n",
       "      <td>0.88</td>\n",
       "      <td>0.00</td>\n",
       "      <td>0.098</td>\n",
       "      <td>25.0</td>\n",
       "      <td>67.0</td>\n",
       "      <td>0.9968</td>\n",
       "      <td>3.20</td>\n",
       "      <td>0.68</td>\n",
       "      <td>9.8</td>\n",
       "      <td>5</td>\n",
       "    </tr>\n",
       "    <tr>\n",
       "      <th>2</th>\n",
       "      <td>7.8</td>\n",
       "      <td>0.76</td>\n",
       "      <td>0.04</td>\n",
       "      <td>0.092</td>\n",
       "      <td>15.0</td>\n",
       "      <td>54.0</td>\n",
       "      <td>0.9970</td>\n",
       "      <td>3.26</td>\n",
       "      <td>0.65</td>\n",
       "      <td>9.8</td>\n",
       "      <td>5</td>\n",
       "    </tr>\n",
       "    <tr>\n",
       "      <th>3</th>\n",
       "      <td>11.2</td>\n",
       "      <td>0.28</td>\n",
       "      <td>0.56</td>\n",
       "      <td>0.075</td>\n",
       "      <td>17.0</td>\n",
       "      <td>60.0</td>\n",
       "      <td>0.9980</td>\n",
       "      <td>3.16</td>\n",
       "      <td>0.58</td>\n",
       "      <td>9.8</td>\n",
       "      <td>6</td>\n",
       "    </tr>\n",
       "    <tr>\n",
       "      <th>4</th>\n",
       "      <td>7.4</td>\n",
       "      <td>0.70</td>\n",
       "      <td>0.00</td>\n",
       "      <td>0.076</td>\n",
       "      <td>11.0</td>\n",
       "      <td>34.0</td>\n",
       "      <td>0.9978</td>\n",
       "      <td>3.51</td>\n",
       "      <td>0.56</td>\n",
       "      <td>9.4</td>\n",
       "      <td>5</td>\n",
       "    </tr>\n",
       "  </tbody>\n",
       "</table>\n",
       "</div>"
      ],
      "text/plain": [
       "   fixed acidity  volatile acidity  citric acid  chlorides  \\\n",
       "0            7.4              0.70         0.00      0.076   \n",
       "1            7.8              0.88         0.00      0.098   \n",
       "2            7.8              0.76         0.04      0.092   \n",
       "3           11.2              0.28         0.56      0.075   \n",
       "4            7.4              0.70         0.00      0.076   \n",
       "\n",
       "   free sulfur dioxide  total sulfur dioxide  density    pH  sulphates  \\\n",
       "0                 11.0                  34.0   0.9978  3.51       0.56   \n",
       "1                 25.0                  67.0   0.9968  3.20       0.68   \n",
       "2                 15.0                  54.0   0.9970  3.26       0.65   \n",
       "3                 17.0                  60.0   0.9980  3.16       0.58   \n",
       "4                 11.0                  34.0   0.9978  3.51       0.56   \n",
       "\n",
       "   alcohol  quality  \n",
       "0      9.4        5  \n",
       "1      9.8        5  \n",
       "2      9.8        5  \n",
       "3      9.8        6  \n",
       "4      9.4        5  "
      ]
     },
     "execution_count": 8,
     "metadata": {},
     "output_type": "execute_result"
    }
   ],
   "source": [
    "dataset.head()"
   ]
  },
  {
   "cell_type": "code",
   "execution_count": 9,
   "id": "260d550e",
   "metadata": {},
   "outputs": [
    {
     "data": {
      "text/plain": [
       "<AxesSubplot:>"
      ]
     },
     "execution_count": 9,
     "metadata": {},
     "output_type": "execute_result"
    },
    {
     "data": {
      "image/png": "[encoded data removed]",
      "text/plain": [
       "<Figure size 432x288 with 2 Axes>"
      ]
     },
     "metadata": {
      "needs_background": "light"
     },
     "output_type": "display_data"
    }
   ],
   "source": [
    "#let's plot a heatmap to show relationships between variables.\n",
    "sns.heatmap(dataset.corr(),cmap='Blues')"
   ]
  },
  {
   "cell_type": "code",
   "execution_count": 10,
   "id": "56af5e98",
   "metadata": {},
   "outputs": [
    {
     "data": {
      "image/png": "[encoded data removed]",
      "text/plain": [
       "<Figure size 1008x288 with 4 Axes>"
      ]
     },
     "metadata": {
      "needs_background": "light"
     },
     "output_type": "display_data"
    }
   ],
   "source": [
    "plt.figure(figsize=(14,4))\n",
    "plt.subplot(1,4,1)\n",
    "sns.barplot(x = 'quality', y = 'alcohol', data = dataset,palette='rainbow')\n",
    "plt.subplot(1,4,2)\n",
    "sns.barplot(x = 'quality', y = 'fixed acidity', data = dataset,palette='rainbow')\n",
    "plt.tight_layout()\n",
    "plt.subplot(1,4,3)\n",
    "sns.barplot(x = 'quality', y = 'sulphates', data = dataset,palette='rainbow')\n",
    "plt.tight_layout()\n",
    "plt.subplot(1,4,4)\n",
    "sns.barplot(x = 'quality', y = 'citric acid', data = dataset,palette='rainbow')\n",
    "plt.tight_layout()"
   ]
  },
  {
   "cell_type": "markdown",
   "id": "b825bfee",
   "metadata": {},
   "source": [
    "Hence it's clear that,\n",
    "\n",
    "a. Amount of alcohol increases Quality increases\n",
    "\n",
    "b. Fixed acidity don't have clear insight.\n",
    "\n",
    "c. Sulphatees and Citric acid showing positive increase with respect to Quality."
   ]
  },
  {
   "cell_type": "markdown",
   "id": "57b7d24e",
   "metadata": {},
   "source": [
    "Transforming Dependant Variable\n",
    "catagorise it into 1 and 0 Good(>6.5) and Bad(<6.5) "
   ]
  },
  {
   "cell_type": "code",
   "execution_count": 11,
   "id": "02bee6cd",
   "metadata": {},
   "outputs": [
    {
     "data": {
      "text/plain": [
       "0    1382\n",
       "1     217\n",
       "Name: quality, dtype: int64"
      ]
     },
     "execution_count": 11,
     "metadata": {},
     "output_type": "execute_result"
    }
   ],
   "source": [
    "dataset['quality']=[1 if i >6.5 else 0 for i in dataset['quality']]\n",
    "dataset['quality'].value_counts()"
   ]
  },
  {
   "cell_type": "code",
   "execution_count": 12,
   "id": "a629a287",
   "metadata": {},
   "outputs": [
    {
     "data": {
      "text/plain": [
       "<AxesSubplot:xlabel='alcohol', ylabel='Count'>"
      ]
     },
     "execution_count": 12,
     "metadata": {},
     "output_type": "execute_result"
    },
    {
     "data": {
      "image/png": "[encoded data removed]",
      "text/plain": [
       "<Figure size 432x288 with 1 Axes>"
      ]
     },
     "metadata": {
      "needs_background": "light"
     },
     "output_type": "display_data"
    }
   ],
   "source": [
    "sns.histplot(dataset['alcohol'])"
   ]
  },
  {
   "cell_type": "markdown",
   "id": "6e216cc6",
   "metadata": {},
   "source": [
    "#### Determining Outliers "
   ]
  },
  {
   "cell_type": "code",
   "execution_count": 13,
   "id": "ba2204f6",
   "metadata": {},
   "outputs": [
    {
     "data": {
      "text/plain": [
       "<AxesSubplot:xlabel='chlorides'>"
      ]
     },
     "execution_count": 13,
     "metadata": {},
     "output_type": "execute_result"
    },
    {
     "data": {
      "image/png": "[encoded data removed]",
      "text/plain": [
       "<Figure size 864x576 with 4 Axes>"
      ]
     },
     "metadata": {
      "needs_background": "light"
     },
     "output_type": "display_data"
    },
    {
     "data": {
      "image/png": "[encoded data removed]",
      "text/plain": [
       "<Figure size 864x576 with 4 Axes>"
      ]
     },
     "metadata": {
      "needs_background": "light"
     },
     "output_type": "display_data"
    }
   ],
   "source": [
    "#using boxplot for given catagorical variables\n",
    "plt.figure(figsize=(12,8))\n",
    "plt.subplot(2,2,1)\n",
    "sns.boxplot(x=dataset['alcohol'])\n",
    "plt.subplot(2,2,2)\n",
    "sns.boxplot(x=dataset['sulphates'])\n",
    "plt.subplot(2,2,3)\n",
    "sns.boxplot(x=dataset['citric acid'])\n",
    "plt.subplot(2,2,4)\n",
    "sns.boxplot(x=dataset['fixed acidity'])\n",
    "plt.figure(figsize=(12,8))\n",
    "plt.subplot(2,2,1)\n",
    "sns.boxplot(x=dataset['volatile acidity'])\n",
    "plt.subplot(2,2,2)\n",
    "sns.boxplot(x=dataset['total sulfur dioxide'])\n",
    "plt.subplot(2,2,3)\n",
    "sns.boxplot(x=dataset['density'])\n",
    "plt.subplot(2,2,4)\n",
    "sns.boxplot(x=dataset['chlorides'])"
   ]
  },
  {
   "cell_type": "markdown",
   "id": "04ac9b74",
   "metadata": {},
   "source": [
    "we observed that total sulphur dioxide have values so far\n",
    "\n",
    "To find out outliers we will use Z Score(standard score) Method\n",
    "\n",
    "Z = (observed value - mean of the sample)/standard deviation of the sample"
   ]
  },
  {
   "cell_type": "code",
   "execution_count": 14,
   "id": "dd97b87b",
   "metadata": {},
   "outputs": [],
   "source": [
    "dataset['zscore']=((dataset['citric acid']-dataset['citric acid'].mean())/dataset['citric acid'].std())\n",
    "filt=np.abs(dataset['zscore'])<3\n",
    "dataset=dataset[filt]"
   ]
  },
  {
   "cell_type": "code",
   "execution_count": 15,
   "id": "004ad6f5",
   "metadata": {},
   "outputs": [],
   "source": [
    "dataset['zscore2']=((dataset['alcohol']-dataset['alcohol'].mean())/dataset['alcohol'].std())\n",
    "filt=np.abs(dataset['zscore2'])<3\n",
    "dataset=dataset[filt]"
   ]
  },
  {
   "cell_type": "code",
   "execution_count": 16,
   "id": "8e215cb8",
   "metadata": {},
   "outputs": [],
   "source": [
    "dataset['zscore3']=((dataset['total sulfur dioxide']-dataset['total sulfur dioxide'].mean())/dataset['total sulfur dioxide'].std())\n",
    "filt=np.abs(dataset['zscore3'])<3\n",
    "dataset=dataset[filt]"
   ]
  },
  {
   "cell_type": "markdown",
   "id": "f4825412",
   "metadata": {},
   "source": [
    "### Model Development"
   ]
  },
  {
   "cell_type": "code",
   "execution_count": 17,
   "id": "ae5855ba",
   "metadata": {},
   "outputs": [],
   "source": [
    "# X is independant variable and  y is Dependant or Target variable"
   ]
  },
  {
   "cell_type": "code",
   "execution_count": 18,
   "id": "7de84d4d",
   "metadata": {},
   "outputs": [],
   "source": [
    "X=dataset.drop(['quality','zscore','zscore2','free sulfur dioxide','zscore3'],axis=1,inplace = False)\n",
    "y=dataset['quality']"
   ]
  },
  {
   "cell_type": "code",
   "execution_count": 19,
   "id": "00a01e52",
   "metadata": {},
   "outputs": [],
   "source": [
    "#Data Spliting "
   ]
  },
  {
   "cell_type": "code",
   "execution_count": 20,
   "id": "26be947e",
   "metadata": {},
   "outputs": [],
   "source": [
    "from sklearn.model_selection import train_test_split\n",
    "X_train, X_test, y_train, y_test =train_test_split(X,y,test_size=0.20,random_state=42)"
   ]
  },
  {
   "cell_type": "code",
   "execution_count": 21,
   "id": "55e9893e",
   "metadata": {},
   "outputs": [],
   "source": [
    "# data Scaling using Standard Scaler \n",
    "from sklearn.preprocessing import StandardScaler\n",
    "scaling=StandardScaler()\n",
    "x_train=scaling.fit_transform(X_train)\n",
    "x_test=scaling.fit_transform(X_test)"
   ]
  },
  {
   "cell_type": "code",
   "execution_count": 22,
   "id": "c54c03ad",
   "metadata": {},
   "outputs": [],
   "source": [
    "# Now we will be using Different ML Algorithms to find out which is giving us best Accuracy."
   ]
  },
  {
   "cell_type": "code",
   "execution_count": 23,
   "id": "2c2bbe7d",
   "metadata": {},
   "outputs": [],
   "source": [
    "# 1. Logistic Regression algorithm\n",
    "from sklearn.linear_model import LogisticRegression"
   ]
  },
  {
   "cell_type": "code",
   "execution_count": 24,
   "id": "cf0a941d",
   "metadata": {},
   "outputs": [
    {
     "data": {
      "text/plain": [
       "0.873015873015873"
      ]
     },
     "execution_count": 24,
     "metadata": {},
     "output_type": "execute_result"
    }
   ],
   "source": [
    "model=LogisticRegression()\n",
    "model.fit(x_train,y_train)\n",
    "model.score(x_test,y_test) #measuring the accuracy of the model against the training data (R^2 method)"
   ]
  },
  {
   "cell_type": "code",
   "execution_count": 25,
   "id": "cd57a5a6",
   "metadata": {},
   "outputs": [],
   "source": [
    "# 2. Decision Tree Classifier algorithm\n",
    "from sklearn import tree"
   ]
  },
  {
   "cell_type": "code",
   "execution_count": 26,
   "id": "1adf8045",
   "metadata": {},
   "outputs": [
    {
     "data": {
      "text/plain": [
       "0.8761904761904762"
      ]
     },
     "execution_count": 26,
     "metadata": {},
     "output_type": "execute_result"
    }
   ],
   "source": [
    "model=tree.DecisionTreeClassifier()\n",
    "model.fit(x_train,y_train)\n",
    "model.score(x_test,y_test)"
   ]
  },
  {
   "cell_type": "code",
   "execution_count": 27,
   "id": "23186e37",
   "metadata": {},
   "outputs": [],
   "source": [
    "# 3. Support Vector Machine algorithm\n",
    "from sklearn.svm import SVC"
   ]
  },
  {
   "cell_type": "code",
   "execution_count": 28,
   "id": "2a6507e6",
   "metadata": {},
   "outputs": [
    {
     "data": {
      "text/plain": [
       "0.8920634920634921"
      ]
     },
     "execution_count": 28,
     "metadata": {},
     "output_type": "execute_result"
    }
   ],
   "source": [
    "model=SVC()\n",
    "model.fit(x_train,y_train)\n",
    "model.score(x_test,y_test)"
   ]
  },
  {
   "cell_type": "code",
   "execution_count": 29,
   "id": "8fc1158e",
   "metadata": {},
   "outputs": [],
   "source": [
    "# 4. k-nearest neighbors (KNN) algorithm\n",
    "from sklearn.neighbors import KNeighborsClassifier"
   ]
  },
  {
   "cell_type": "code",
   "execution_count": 30,
   "id": "6d15456e",
   "metadata": {},
   "outputs": [
    {
     "name": "stdout",
     "output_type": "stream",
     "text": [
      "1.873015873015873\n",
      "2.8793650793650793\n",
      "3.8603174603174604\n",
      "4.882539682539683\n",
      "5.87936507936508\n",
      "6.885714285714286\n",
      "7.895238095238096\n",
      "8.895238095238096\n",
      "9.885714285714286\n",
      "10.892063492063492\n",
      "11.882539682539683\n",
      "12.882539682539683\n",
      "13.87936507936508\n",
      "14.882539682539683\n",
      "15.873015873015873\n",
      "16.876190476190477\n",
      "17.873015873015873\n",
      "18.876190476190477\n",
      "19.876190476190477\n",
      "20.882539682539683\n",
      "21.882539682539683\n",
      "22.882539682539683\n",
      "23.87936507936508\n",
      "24.87936507936508\n",
      "25.866666666666667\n",
      "26.873015873015873\n",
      "27.866666666666667\n",
      "28.876190476190477\n",
      "29.86984126984127\n",
      "30.873015873015873\n",
      "31.86984126984127\n",
      "32.86984126984127\n",
      "33.86984126984127\n",
      "34.86984126984127\n",
      "35.87301587301587\n",
      "36.87301587301587\n",
      "37.86984126984127\n",
      "38.87301587301587\n",
      "39.87301587301587\n",
      "40.87936507936508\n",
      "41.87936507936508\n",
      "42.87936507936508\n",
      "43.87301587301587\n",
      "44.87619047619047\n",
      "45.87301587301587\n",
      "46.87301587301587\n",
      "47.86984126984127\n",
      "48.87619047619047\n",
      "49.87619047619047\n",
      "50.87619047619047\n",
      "51.87619047619047\n",
      "52.87936507936508\n",
      "53.87619047619047\n",
      "54.87936507936508\n",
      "55.87936507936508\n",
      "56.87936507936508\n",
      "57.87936507936508\n",
      "58.88253968253968\n",
      "59.88253968253968\n"
     ]
    }
   ],
   "source": [
    "for i in range(1,60):\n",
    "    model=KNeighborsClassifier( n_neighbors=i,metric='manhattan')\n",
    "    model.fit(x_train,y_train)\n",
    "    print(i+model.score(x_test,y_test))"
   ]
  },
  {
   "cell_type": "markdown",
   "id": "15b946e1",
   "metadata": {},
   "source": [
    "hence value 8 is optimal k."
   ]
  },
  {
   "cell_type": "code",
   "execution_count": 31,
   "id": "5adb986e",
   "metadata": {},
   "outputs": [
    {
     "data": {
      "text/plain": [
       "0.8952380952380953"
      ]
     },
     "execution_count": 31,
     "metadata": {},
     "output_type": "execute_result"
    }
   ],
   "source": [
    "# k=8\n",
    "model=KNeighborsClassifier( n_neighbors=8,metric='manhattan')\n",
    "model.fit(x_train,y_train)\n",
    "model.score(x_test,y_test)"
   ]
  },
  {
   "cell_type": "markdown",
   "id": "93d5bb3c",
   "metadata": {},
   "source": [
    "Finally we get Accuracy near to 90%"
   ]
  },
  {
   "cell_type": "markdown",
   "id": "cd15e241",
   "metadata": {},
   "source": [
    "#### Create Test case to predict "
   ]
  },
  {
   "cell_type": "code",
   "execution_count": 51,
   "id": "47394626",
   "metadata": {},
   "outputs": [
    {
     "name": "stdout",
     "output_type": "stream",
     "text": [
      "Enter value of 'fixed acidity': 6.2\n",
      "Enter value of 'volatile acidity': 0.560\n",
      "Enter value of 'citric acid': 0.09\n",
      "Enter value of 'chlorides': 0.053\n",
      "Enter value of 'total sulfur dioxide': 32\n",
      "Enter value of 'density': 0.99402\n",
      "Enter value of 'pH': 3.54\n",
      "Enter value of 'sulphates': 0.60\n",
      "Enter value of 'alcohol': 11.3\n"
     ]
    }
   ],
   "source": [
    "#Accepting values \n",
    "a=float(input(\"Enter value of 'fixed acidity': \"))\n",
    "b=float(input(\"Enter value of 'volatile acidity': \"))\n",
    "c=float(input(\"Enter value of 'citric acid': \"))\n",
    "d=float(input(\"Enter value of 'chlorides': \"))\n",
    "e=float(input(\"Enter value of 'total sulfur dioxide': \"))\n",
    "f=float(input(\"Enter value of 'density': \"))\n",
    "g=float(input(\"Enter value of 'pH': \"))\n",
    "h=float(input(\"Enter value of 'sulphates': \"))\n",
    "i=float(input(\"Enter value of 'alcohol': \"))"
   ]
  },
  {
   "cell_type": "code",
   "execution_count": 52,
   "id": "287fb6fd",
   "metadata": {},
   "outputs": [
    {
     "name": "stdout",
     "output_type": "stream",
     "text": [
      "Wine Quality Is Good.\n"
     ]
    }
   ],
   "source": [
    "#Using k-nearest neighbors (KNN) algorithm with k=8\n",
    "\n",
    "model=KNeighborsClassifier( n_neighbors=8,metric='manhattan')\n",
    "\n",
    "model.fit(x_train,y_train)\n",
    "\n",
    "test_list = [a,b,c,d,e,f,g,h,i]\n",
    "\n",
    "test_df = pd.DataFrame(test_list)               \n",
    "\n",
    "test = test_df.transpose()                            \n",
    "\n",
    "test_pred = model.predict(test)           \n",
    "\n",
    "if(test_pred == 0):                            \n",
    "\n",
    "    print(\"Wine Quality Is Good.\")\n",
    "\n",
    "else:\n",
    "\n",
    "    print(\"Wine Quality Is Not Good.\")"
   ]
  },
  {
   "cell_type": "markdown",
   "id": "386f775c",
   "metadata": {},
   "source": [
    "### Thanks."
   ]
  }
 ],
 "metadata": {
  "kernelspec": {
   "display_name": "Python 3",
   "language": "python",
   "name": "python3"
  },
  "language_info": {
   "codemirror_mode": {
    "name": "ipython",
    "version": 3
   },
   "file_extension": ".py",
   "mimetype": "text/x-python",
   "name": "python",
   "nbconvert_exporter": "python",
   "pygments_lexer": "ipython3",
   "version": "3.8.8"
  }
 },
 "nbformat": 4,
 "nbformat_minor": 5
}
